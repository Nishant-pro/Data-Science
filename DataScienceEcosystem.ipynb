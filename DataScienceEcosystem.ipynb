{
 "cells": [
  {
   "cell_type": "markdown",
   "id": "75112315-00d9-4678-94c2-9ce552d438a9",
   "metadata": {},
   "source": [
    "# Data Science Tools and Ecosystem"
   ]
  },
  {
   "cell_type": "markdown",
   "id": "2ddd6b4c-da58-4dde-9c5b-f67192e1b4bc",
   "metadata": {},
   "source": [
    "In this notebook, Data Science Tools and Ecosystem are summarized."
   ]
  },
  {
   "cell_type": "markdown",
   "id": "f4522a99-54c6-4444-af41-dbbde2a208e2",
   "metadata": {},
   "source": [
    "Some of the popular languages that Data Scientists use are:"
   ]
  },
  {
   "cell_type": "markdown",
   "id": "a6c8f78e-a622-41c9-89f0-ab7763dc8101",
   "metadata": {},
   "source": [
    "1)R\n",
    "2)SQL\n",
    "3)Java\n",
    "4)Julia"
   ]
  },
  {
   "cell_type": "markdown",
   "id": "9284e65c-6c6f-40a0-b1d3-1558f5db9fbc",
   "metadata": {},
   "source": [
    "Some of the commonly used libraries used by Data Scientists include:"
   ]
  },
  {
   "cell_type": "markdown",
   "id": "53cc83a4-d9ff-4653-ba8b-3ab90c89e615",
   "metadata": {},
   "source": [
    "1)TensorFlow\n",
    "2)NumPy\n",
    "3)SciPy \n",
    "4)Pandas\n",
    "5)Matplotlib"
   ]
  },
  {
   "cell_type": "markdown",
   "id": "8833e170-f8fe-4c33-9815-381d24ab85fd",
   "metadata": {},
   "source": [
    "| Data Science Tools |\n",
    "|--------------------|\n",
    "| RStudio |\n",
    "| Apache Spark |\n",
    "| TensorFlow |\n",
    "| Apache Hadoop |"
   ]
  },
  {
   "cell_type": "markdown",
   "id": "f1f0add3-0dae-4486-a50e-f72f595e09f6",
   "metadata": {},
   "source": [
    "### Below are a few examples of evaluating arithmetic expressions in Python"
   ]
  },
  {
   "cell_type": "markdown",
   "id": "b100de57-716d-4262-8219-73580efa6dea",
   "metadata": {},
   "source": [
    "This a simple arithmetic expression to mutiply then add integers"
   ]
  },
  {
   "cell_type": "code",
   "execution_count": 2,
   "id": "fcdc9afe-d094-441c-9601-5869e207816c",
   "metadata": {},
   "outputs": [
    {
     "data": {
      "text/plain": [
       "17"
      ]
     },
     "execution_count": 2,
     "metadata": {},
     "output_type": "execute_result"
    }
   ],
   "source": [
    "(3*4)+5"
   ]
  },
  {
   "cell_type": "markdown",
   "id": "3fbb7284-c8bf-47b7-8eaf-3949b0cc9ce3",
   "metadata": {},
   "source": [
    "This will convert 200 minutes to hours by diving by 60"
   ]
  },
  {
   "cell_type": "code",
   "execution_count": 3,
   "id": "589859eb-52cd-4a26-bbef-135bd134a52a",
   "metadata": {},
   "outputs": [
    {
     "data": {
      "text/plain": [
       "3.3333333333333335"
      ]
     },
     "execution_count": 3,
     "metadata": {},
     "output_type": "execute_result"
    }
   ],
   "source": [
    "200/60"
   ]
  },
  {
   "cell_type": "markdown",
   "id": "d769bdcb-bd01-4278-87c1-bcf639e6fef4",
   "metadata": {},
   "source": [
    "**Objectives:**\n",
    "* popular languages that Data Scientists\n",
    "* Some of the commonly used libraries\n",
    "* simple arithmetic expression evaluation"
   ]
  },
  {
   "cell_type": "markdown",
   "id": "ed543783-a543-4cb5-9d1c-aedb3737a3a8",
   "metadata": {},
   "source": [
    "## Author\n",
    "Nishant Deo Madhukar"
   ]
  },
  {
   "cell_type": "code",
   "execution_count": null,
   "id": "f831b5c0-2068-4b1a-9ba4-333f883659e9",
   "metadata": {},
   "outputs": [],
   "source": []
  }
 ],
 "metadata": {
  "kernelspec": {
   "display_name": "Python",
   "language": "python",
   "name": "conda-env-python-py"
  },
  "language_info": {
   "codemirror_mode": {
    "name": "ipython",
    "version": 3
   },
   "file_extension": ".py",
   "mimetype": "text/x-python",
   "name": "python",
   "nbconvert_exporter": "python",
   "pygments_lexer": "ipython3",
   "version": "3.7.12"
  }
 },
 "nbformat": 4,
 "nbformat_minor": 5
}
